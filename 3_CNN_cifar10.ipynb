{
 "cells": [
  {
   "cell_type": "markdown",
   "metadata": {},
   "source": [
    "## 基于keras的 cifar10 分类卷积神经网络 "
   ]
  },
  {
   "cell_type": "code",
   "execution_count": 1,
   "metadata": {},
   "outputs": [],
   "source": [
    "from __future__ import print_function\n",
    "import keras\n",
    "from keras.datasets import cifar10\n",
    "from keras.preprocessing.image import ImageDataGenerator\n",
    "from keras.models import Sequential\n",
    "from keras.layers import Dense, Dropout, Activation, Flatten\n",
    "from keras.layers import Conv2D, MaxPooling2D\n",
    "import os"
   ]
  },
  {
   "cell_type": "code",
   "execution_count": 2,
   "metadata": {},
   "outputs": [
    {
     "name": "stdout",
     "output_type": "stream",
     "text": [
      "x_train shape: (50000, 32, 32, 3)\n",
      "50000 train samples\n",
      "10000 test samples\n"
     ]
    }
   ],
   "source": [
    "num_classes = 10\n",
    "\n",
    "#数据，切分为训练和测试集。\n",
    "(x_train, y_train), (x_test, y_test) = cifar10.load_data()\n",
    "print('x_train shape:', x_train.shape)\n",
    "print(x_train.shape[0], 'train samples')\n",
    "print(x_test.shape[0], 'test samples')\n",
    "\n",
    "# 将类向量转换为二进制类矩阵。\n",
    "y_train = keras.utils.to_categorical(y_train, num_classes)\n",
    "y_test = keras.utils.to_categorical(y_test, num_classes)\n",
    "\n"
   ]
  },
  {
   "cell_type": "markdown",
   "metadata": {},
   "source": [
    "### 可视化"
   ]
  },
  {
   "cell_type": "code",
   "execution_count": 5,
   "metadata": {},
   "outputs": [
    {
     "data": {
      "image/png": "[encoded data removed]",
      "text/plain": [
       "<Figure size 432x288 with 1 Axes>"
      ]
     },
     "metadata": {
      "needs_background": "light"
     },
     "output_type": "display_data"
    },
    {
     "data": {
      "image/png": "[encoded data removed]",
      "text/plain": [
       "<Figure size 432x288 with 1 Axes>"
      ]
     },
     "metadata": {
      "needs_background": "light"
     },
     "output_type": "display_data"
    }
   ],
   "source": [
    "import matplotlib.pyplot as plt\n",
    "plt.imshow(x_train[10])\n",
    "plt.show()\n",
    "plt.imshow(x_train[11])\n",
    "plt.show()"
   ]
  },
  {
   "cell_type": "markdown",
   "metadata": {},
   "source": [
    "### 构建神经网络"
   ]
  },
  {
   "cell_type": "code",
   "execution_count": 3,
   "metadata": {},
   "outputs": [
    {
     "name": "stdout",
     "output_type": "stream",
     "text": [
      "Model: \"sequential\"\n",
      "_________________________________________________________________\n",
      "Layer (type)                 Output Shape              Param #   \n",
      "=================================================================\n",
      "conv2d (Conv2D)              (None, 32, 32, 32)        896       \n",
      "_________________________________________________________________\n",
      "activation (Activation)      (None, 32, 32, 32)        0         \n",
      "_________________________________________________________________\n",
      "conv2d_1 (Conv2D)            (None, 30, 30, 32)        9248      \n",
      "_________________________________________________________________\n",
      "activation_1 (Activation)    (None, 30, 30, 32)        0         \n",
      "_________________________________________________________________\n",
      "max_pooling2d (MaxPooling2D) (None, 15, 15, 32)        0         \n",
      "_________________________________________________________________\n",
      "dropout (Dropout)            (None, 15, 15, 32)        0         \n",
      "_________________________________________________________________\n",
      "conv2d_2 (Conv2D)            (None, 15, 15, 64)        18496     \n",
      "_________________________________________________________________\n",
      "activation_2 (Activation)    (None, 15, 15, 64)        0         \n",
      "_________________________________________________________________\n",
      "conv2d_3 (Conv2D)            (None, 13, 13, 64)        36928     \n",
      "_________________________________________________________________\n",
      "activation_3 (Activation)    (None, 13, 13, 64)        0         \n",
      "_________________________________________________________________\n",
      "max_pooling2d_1 (MaxPooling2 (None, 6, 6, 64)          0         \n",
      "_________________________________________________________________\n",
      "dropout_1 (Dropout)          (None, 6, 6, 64)          0         \n",
      "_________________________________________________________________\n",
      "flatten (Flatten)            (None, 2304)              0         \n",
      "_________________________________________________________________\n",
      "dense (Dense)                (None, 512)               1180160   \n",
      "_________________________________________________________________\n",
      "activation_4 (Activation)    (None, 512)               0         \n",
      "_________________________________________________________________\n",
      "dropout_2 (Dropout)          (None, 512)               0         \n",
      "_________________________________________________________________\n",
      "dense_1 (Dense)              (None, 10)                5130      \n",
      "_________________________________________________________________\n",
      "activation_5 (Activation)    (None, 10)                0         \n",
      "=================================================================\n",
      "Total params: 1,250,858\n",
      "Trainable params: 1,250,858\n",
      "Non-trainable params: 0\n",
      "_________________________________________________________________\n",
      "None\n"
     ]
    }
   ],
   "source": [
    "model = Sequential()\n",
    "model.add(Conv2D(32, (3, 3), padding='same',\n",
    "                 input_shape=x_train.shape[1:]))\n",
    "model.add(Activation('relu'))\n",
    "model.add(Conv2D(32, (3, 3)))\n",
    "model.add(Activation('relu'))\n",
    "model.add(MaxPooling2D(pool_size=(2, 2)))\n",
    "model.add(Dropout(0.25))\n",
    "\n",
    "model.add(Conv2D(64, (3, 3), padding='same'))\n",
    "model.add(Activation('relu'))\n",
    "model.add(Conv2D(64, (3, 3)))\n",
    "model.add(Activation('relu'))\n",
    "model.add(MaxPooling2D(pool_size=(2, 2)))\n",
    "model.add(Dropout(0.25))\n",
    "\n",
    "model.add(Flatten())\n",
    "model.add(Dense(512))\n",
    "model.add(Activation('relu'))\n",
    "model.add(Dropout(0.5))\n",
    "model.add(Dense(num_classes))\n",
    "model.add(Activation('softmax'))\n",
    "\n",
    "print(model.summary()) "
   ]
  },
  {
   "cell_type": "markdown",
   "metadata": {},
   "source": [
    "### 优化器"
   ]
  },
  {
   "cell_type": "code",
   "execution_count": 4,
   "metadata": {},
   "outputs": [],
   "source": [
    "# 初始化 RMSprop 优化器。\n",
    "opt = keras.optimizers.RMSprop(lr=0.01, decay=1e-5)\n",
    "sgd = keras.optimizers.SGD(lr=0.001, decay=1e-6, momentum=0.9, nesterov=True)\n",
    "ada = keras.optimizers.Adagrad(lr=0.001, epsilon=None, decay=0.0)\n",
    "adam = keras.optimizers.Adam(lr=0.001, beta_1=0.9, beta_2=0.999, epsilon=None, decay=0.0, amsgrad=False)\n",
    "\n",
    "\n",
    "# 利用 RMSprop 来训练模型。\n",
    "model.compile(loss='categorical_crossentropy',\n",
    "              optimizer=adam,\n",
    "              metrics=['accuracy'])\n"
   ]
  },
  {
   "cell_type": "markdown",
   "metadata": {},
   "source": [
    "### 设置神经网络的参数"
   ]
  },
  {
   "cell_type": "code",
   "execution_count": 5,
   "metadata": {},
   "outputs": [],
   "source": [
    "batch_size = 32\n",
    "epochs = 20\n",
    "data_augmentation = True\n",
    "num_predictions = 20\n",
    "save_dir = os.path.join(os.getcwd(), 'saved_models')\n",
    "model_name = 'keras_cifar10_trained_model.h5'\n",
    "\n",
    "x_train = x_train.astype('float32')\n",
    "x_test = x_test.astype('float32')\n",
    "x_train /= 255\n",
    "x_test /= 255"
   ]
  },
  {
   "cell_type": "markdown",
   "metadata": {},
   "source": [
    "### 数据增强"
   ]
  },
  {
   "cell_type": "code",
   "execution_count": 29,
   "metadata": {},
   "outputs": [
    {
     "name": "stdout",
     "output_type": "stream",
     "text": [
      "Using real-time data augmentation.\n",
      "Epoch 1/20\n",
      "1563/1563 [==============================] - 158s 100ms/step - loss: 1.7914 - accuracy: 0.3327 - val_loss: 1.2474 - val_accuracy: 0.5486\n",
      "Epoch 2/20\n",
      "1563/1563 [==============================] - 157s 100ms/step - loss: 1.3021 - accuracy: 0.5315 - val_loss: 1.0570 - val_accuracy: 0.6214\n",
      "Epoch 3/20\n",
      "1563/1563 [==============================] - 157s 101ms/step - loss: 1.1483 - accuracy: 0.5935 - val_loss: 0.9597 - val_accuracy: 0.6608\n",
      "Epoch 4/20\n",
      "1563/1563 [==============================] - 162s 103ms/step - loss: 1.0498 - accuracy: 0.6328 - val_loss: 0.9690 - val_accuracy: 0.6630\n",
      "Epoch 5/20\n",
      "1563/1563 [==============================] - 162s 104ms/step - loss: 0.9892 - accuracy: 0.6517 - val_loss: 0.8780 - val_accuracy: 0.6889\n",
      "Epoch 6/20\n",
      "1563/1563 [==============================] - 159s 102ms/step - loss: 0.9489 - accuracy: 0.6661 - val_loss: 0.7944 - val_accuracy: 0.7272\n",
      "Epoch 7/20\n",
      "1563/1563 [==============================] - 156s 100ms/step - loss: 0.9235 - accuracy: 0.6775 - val_loss: 0.7919 - val_accuracy: 0.7242\n",
      "Epoch 8/20\n",
      "1563/1563 [==============================] - 154s 98ms/step - loss: 0.8938 - accuracy: 0.6875 - val_loss: 0.8339 - val_accuracy: 0.7100\n",
      "Epoch 9/20\n",
      "1563/1563 [==============================] - 156s 100ms/step - loss: 0.8771 - accuracy: 0.6940 - val_loss: 0.8041 - val_accuracy: 0.7236\n",
      "Epoch 10/20\n",
      "1563/1563 [==============================] - 157s 100ms/step - loss: 0.8583 - accuracy: 0.6991 - val_loss: 0.7129 - val_accuracy: 0.7565\n",
      "Epoch 11/20\n",
      "1563/1563 [==============================] - 156s 100ms/step - loss: 0.8389 - accuracy: 0.7019 - val_loss: 0.7273 - val_accuracy: 0.7470\n",
      "Epoch 12/20\n",
      "1563/1563 [==============================] - 152s 97ms/step - loss: 0.8374 - accuracy: 0.7102 - val_loss: 0.7148 - val_accuracy: 0.7565\n",
      "Epoch 13/20\n",
      "1563/1563 [==============================] - 158s 101ms/step - loss: 0.8172 - accuracy: 0.7189 - val_loss: 0.7632 - val_accuracy: 0.7387\n",
      "Epoch 14/20\n",
      "1563/1563 [==============================] - 159s 102ms/step - loss: 0.8025 - accuracy: 0.7198 - val_loss: 0.6785 - val_accuracy: 0.7685\n",
      "Epoch 15/20\n",
      "1563/1563 [==============================] - 163s 104ms/step - loss: 0.7972 - accuracy: 0.7233 - val_loss: 0.6634 - val_accuracy: 0.7748\n",
      "Epoch 16/20\n",
      "1563/1563 [==============================] - 170s 109ms/step - loss: 0.7870 - accuracy: 0.7233 - val_loss: 0.6656 - val_accuracy: 0.7705\n",
      "Epoch 17/20\n",
      "1563/1563 [==============================] - 164s 105ms/step - loss: 0.8003 - accuracy: 0.7221 - val_loss: 0.6553 - val_accuracy: 0.7784\n",
      "Epoch 18/20\n",
      "1563/1563 [==============================] - 161s 103ms/step - loss: 0.7830 - accuracy: 0.7253 - val_loss: 0.6896 - val_accuracy: 0.7666\n",
      "Epoch 19/20\n",
      "1563/1563 [==============================] - 165s 105ms/step - loss: 0.7726 - accuracy: 0.7305 - val_loss: 0.7061 - val_accuracy: 0.7600\n",
      "Epoch 20/20\n",
      "1563/1563 [==============================] - 162s 104ms/step - loss: 0.7702 - accuracy: 0.7292 - val_loss: 0.6391 - val_accuracy: 0.7778\n"
     ]
    }
   ],
   "source": [
    "if not data_augmentation:\n",
    "    print('Not using data augmentation.')\n",
    "    model.fit(x_train, y_train,\n",
    "              batch_size=batch_size,\n",
    "              epochs=epochs,\n",
    "              validation_data=(x_test, y_test),\n",
    "              shuffle=True)\n",
    "else:\n",
    "    print('Using real-time data augmentation.')\n",
    "    # 这一步将进行数据处理和实时数据增益。data augmentation:\n",
    "    datagen = ImageDataGenerator(\n",
    "        featurewise_center=False,  # 将整个数据集的均值设为0\n",
    "        samplewise_center=False,  # 将每个样本的均值设为0\n",
    "        featurewise_std_normalization=False,  # 将输入除以整个数据集的标准差\n",
    "        samplewise_std_normalization=False,  # 将输入除以其标准差\n",
    "        zca_whitening=False,  # 运用 ZCA 白化\n",
    "        zca_epsilon=1e-06,  # ZCA 白化的 epsilon值\n",
    "        rotation_range=0,  # 随机旋转图像范围 (角度, 0 to 180)\n",
    "        # 随机水平移动图像 (总宽度的百分比)\n",
    "        width_shift_range=0.1,\n",
    "        # 随机垂直移动图像 (总高度的百分比)\n",
    "        height_shift_range=0.1,\n",
    "        shear_range=0.,  # 设置随机裁剪范围\n",
    "        zoom_range=0.,  # 设置随机放大范围\n",
    "        channel_shift_range=0.,  # 设置随机通道切换的范围\n",
    "        # 设置填充输入边界之外的点的模式\n",
    "        fill_mode='nearest',\n",
    "        cval=0.,  # 在 fill_mode = \"constant\" 时使用的值\n",
    "        horizontal_flip=True,  # 随机水平翻转图像\n",
    "        vertical_flip=False,  # 随机垂直翻转图像\n",
    "        # 设置缩放因子 (在其他转换之前使用)\n",
    "        rescale=None,\n",
    "        # 设置将应用于每一个输入的函数\n",
    "        preprocessing_function=None,\n",
    "        # 图像数据格式，\"channels_first\" 或 \"channels_last\" 之一\n",
    "        data_format=None,\n",
    "        # 保留用于验证的图像比例（严格在0和1之间）\n",
    "        validation_split=0.0)\n",
    "\n",
    "    # 计算特征标准化所需的计算量\n",
    "    # (如果应用 ZCA 白化，则为 std，mean和主成分).\n",
    "    datagen.fit(x_train)\n",
    "\n",
    "    # 利用由 datagen.flow() 生成的批来训练模型\n",
    "    model.fit_generator(datagen.flow(x_train, y_train,\n",
    "                                     batch_size=batch_size),\n",
    "                        epochs=epochs,\n",
    "                        validation_data=(x_test, y_test),\n",
    "                        workers=4)\n",
    "\n",
    "\n",
    "\n"
   ]
  },
  {
   "cell_type": "markdown",
   "metadata": {},
   "source": [
    "### 加载模型并预测"
   ]
  },
  {
   "cell_type": "code",
   "execution_count": 30,
   "metadata": {},
   "outputs": [
    {
     "name": "stdout",
     "output_type": "stream",
     "text": [
      "Saved trained model at /Users/lucyqv/Documents/mba/code/saved_models/keras_cifar10_trained_model.h5 \n",
      "313/313 [==============================] - 5s 17ms/step - loss: 0.6391 - accuracy: 0.7778\n",
      "Test loss: 0.6390827894210815\n",
      "Test accuracy: 0.7778000235557556\n"
     ]
    }
   ],
   "source": [
    "# 保存模型和权重\n",
    "if not os.path.isdir(save_dir):\n",
    "    os.makedirs(save_dir)\n",
    "model_path = os.path.join(save_dir, model_name)\n",
    "model.save(model_path)\n",
    "print('Saved trained model at %s ' % model_path)\n",
    "\n",
    "# 评估训练模型\n",
    "scores = model.evaluate(x_test, y_test, verbose=1)\n",
    "print('Test loss:', scores[0])\n",
    "print('Test accuracy:', scores[1])"
   ]
  },
  {
   "cell_type": "markdown",
   "metadata": {},
   "source": [
    "### 在更小的数据集上和传统机器学习方法进行比较"
   ]
  },
  {
   "cell_type": "code",
   "execution_count": 6,
   "metadata": {},
   "outputs": [
    {
     "name": "stdout",
     "output_type": "stream",
     "text": [
      "Epoch 1/20\n",
      "188/188 [==============================] - 17s 86ms/step - loss: 2.2540 - accuracy: 0.1276 - val_loss: 1.8345 - val_accuracy: 0.3170\n",
      "Epoch 2/20\n",
      "188/188 [==============================] - 15s 81ms/step - loss: 1.8176 - accuracy: 0.3237 - val_loss: 1.5826 - val_accuracy: 0.4157\n",
      "Epoch 3/20\n",
      "188/188 [==============================] - 15s 81ms/step - loss: 1.6031 - accuracy: 0.4111 - val_loss: 1.4499 - val_accuracy: 0.4667\n",
      "Epoch 4/20\n",
      "188/188 [==============================] - 17s 91ms/step - loss: 1.4329 - accuracy: 0.4762 - val_loss: 1.3734 - val_accuracy: 0.4965\n",
      "Epoch 5/20\n",
      "188/188 [==============================] - 17s 90ms/step - loss: 1.3048 - accuracy: 0.5264 - val_loss: 1.2994 - val_accuracy: 0.5235\n",
      "Epoch 6/20\n",
      "188/188 [==============================] - 18s 93ms/step - loss: 1.2036 - accuracy: 0.5700 - val_loss: 1.2392 - val_accuracy: 0.5422\n",
      "Epoch 7/20\n",
      "188/188 [==============================] - 17s 88ms/step - loss: 1.1313 - accuracy: 0.6002 - val_loss: 1.1984 - val_accuracy: 0.5648\n",
      "Epoch 8/20\n",
      "188/188 [==============================] - 16s 83ms/step - loss: 1.0155 - accuracy: 0.6400 - val_loss: 1.1737 - val_accuracy: 0.5822\n",
      "Epoch 9/20\n",
      "188/188 [==============================] - 16s 85ms/step - loss: 0.9621 - accuracy: 0.6569 - val_loss: 1.2191 - val_accuracy: 0.5707\n",
      "Epoch 10/20\n",
      "188/188 [==============================] - 16s 83ms/step - loss: 0.8941 - accuracy: 0.6829 - val_loss: 1.1418 - val_accuracy: 0.5993\n",
      "Epoch 11/20\n",
      "188/188 [==============================] - 16s 83ms/step - loss: 0.8126 - accuracy: 0.7094 - val_loss: 1.1678 - val_accuracy: 0.6120\n",
      "Epoch 12/20\n",
      "188/188 [==============================] - 15s 82ms/step - loss: 0.7615 - accuracy: 0.7234 - val_loss: 1.1895 - val_accuracy: 0.6030\n",
      "Epoch 13/20\n",
      "188/188 [==============================] - 15s 82ms/step - loss: 0.6801 - accuracy: 0.7604 - val_loss: 1.1534 - val_accuracy: 0.6223\n",
      "Epoch 14/20\n",
      "188/188 [==============================] - 15s 82ms/step - loss: 0.6279 - accuracy: 0.7774 - val_loss: 1.1971 - val_accuracy: 0.6087\n",
      "Epoch 15/20\n",
      "188/188 [==============================] - 15s 82ms/step - loss: 0.6368 - accuracy: 0.7780 - val_loss: 1.3912 - val_accuracy: 0.5717\n",
      "Epoch 16/20\n",
      "188/188 [==============================] - 16s 83ms/step - loss: 0.5850 - accuracy: 0.8025 - val_loss: 1.2380 - val_accuracy: 0.6140\n",
      "Epoch 17/20\n",
      "188/188 [==============================] - 16s 83ms/step - loss: 0.4996 - accuracy: 0.8229 - val_loss: 1.2752 - val_accuracy: 0.6173\n",
      "Epoch 18/20\n",
      "188/188 [==============================] - 16s 83ms/step - loss: 0.4598 - accuracy: 0.8453 - val_loss: 1.2648 - val_accuracy: 0.6085\n",
      "Epoch 19/20\n",
      "188/188 [==============================] - 16s 84ms/step - loss: 0.4379 - accuracy: 0.8499 - val_loss: 1.3000 - val_accuracy: 0.6097\n",
      "Epoch 20/20\n",
      "188/188 [==============================] - 16s 83ms/step - loss: 0.3653 - accuracy: 0.8724 - val_loss: 1.3242 - val_accuracy: 0.6202\n"
     ]
    },
    {
     "data": {
      "text/plain": [
       "<tensorflow.python.keras.callbacks.History at 0x7fd39b190780>"
      ]
     },
     "execution_count": 6,
     "metadata": {},
     "output_type": "execute_result"
    }
   ],
   "source": [
    "x_train_new = x_test[0:6000]\n",
    "x_test_new = x_test[6000:10000]\n",
    "y_train_new = y_test[0:6000]\n",
    "y_test_new = y_test[6000:10000]\n",
    "model.fit(x_train_new, y_train_new,\n",
    "              batch_size=batch_size,\n",
    "              epochs=epochs,\n",
    "              validation_data=(x_test_new, y_test_new),\n",
    "              shuffle=True)"
   ]
  },
  {
   "cell_type": "code",
   "execution_count": 7,
   "metadata": {},
   "outputs": [
    {
     "name": "stdout",
     "output_type": "stream",
     "text": [
      "125/125 [==============================] - 2s 14ms/step - loss: 1.3242 - accuracy: 0.6202\n",
      "Test loss: 1.3242244720458984\n",
      "Test accuracy: 0.6202499866485596\n"
     ]
    }
   ],
   "source": [
    "scores = model.evaluate(x_test_new, y_test_new, verbose=1)\n",
    "print('Test loss:', scores[0])\n",
    "print('Test accuracy:', scores[1])"
   ]
  },
  {
   "cell_type": "code",
   "execution_count": null,
   "metadata": {},
   "outputs": [],
   "source": []
  }
 ],
 "metadata": {
  "kernelspec": {
   "display_name": "Python 3",
   "language": "python",
   "name": "python3"
  },
  "language_info": {
   "codemirror_mode": {
    "name": "ipython",
    "version": 3
   },
   "file_extension": ".py",
   "mimetype": "text/x-python",
   "name": "python",
   "nbconvert_exporter": "python",
   "pygments_lexer": "ipython3",
   "version": "3.6.8"
  }
 },
 "nbformat": 4,
 "nbformat_minor": 4
}
